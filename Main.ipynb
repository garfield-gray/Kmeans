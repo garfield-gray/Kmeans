{
 "cells": [
  {
   "cell_type": "markdown",
   "id": "2ea637a9",
   "metadata": {},
   "source": [
    "# in The name of God"
   ]
  },
  {
   "cell_type": "code",
   "execution_count": 3,
   "id": "2ec5ac1e",
   "metadata": {},
   "outputs": [],
   "source": [
    "import numpy as np\n",
    "import pandas\n",
    "\n",
    "import matplotlib.pyplot as plt\n",
    "\n",
    "from numpy import linalg as LA"
   ]
  },
  {
   "cell_type": "code",
   "execution_count": 11,
   "id": "89d12f2e",
   "metadata": {},
   "outputs": [],
   "source": [
    "d = pandas.read_excel('data.xlsx')"
   ]
  },
  {
   "cell_type": "code",
   "execution_count": 3,
   "id": "fba2d6f8",
   "metadata": {},
   "outputs": [
    {
     "data": {
      "text/html": [
       "<div>\n",
       "<style scoped>\n",
       "    .dataframe tbody tr th:only-of-type {\n",
       "        vertical-align: middle;\n",
       "    }\n",
       "\n",
       "    .dataframe tbody tr th {\n",
       "        vertical-align: top;\n",
       "    }\n",
       "\n",
       "    .dataframe thead th {\n",
       "        text-align: right;\n",
       "    }\n",
       "</style>\n",
       "<table border=\"1\" class=\"dataframe\">\n",
       "  <thead>\n",
       "    <tr style=\"text-align: right;\">\n",
       "      <th></th>\n",
       "      <th>Unnamed: 0</th>\n",
       "      <th>X</th>\n",
       "      <th>Y</th>\n",
       "    </tr>\n",
       "  </thead>\n",
       "  <tbody>\n",
       "    <tr>\n",
       "      <th>0</th>\n",
       "      <td>0</td>\n",
       "      <td>2.441256</td>\n",
       "      <td>-0.044710</td>\n",
       "    </tr>\n",
       "    <tr>\n",
       "      <th>1</th>\n",
       "      <td>1</td>\n",
       "      <td>0.313640</td>\n",
       "      <td>4.335086</td>\n",
       "    </tr>\n",
       "    <tr>\n",
       "      <th>2</th>\n",
       "      <td>2</td>\n",
       "      <td>1.895938</td>\n",
       "      <td>5.185403</td>\n",
       "    </tr>\n",
       "    <tr>\n",
       "      <th>3</th>\n",
       "      <td>3</td>\n",
       "      <td>-1.521727</td>\n",
       "      <td>3.234085</td>\n",
       "    </tr>\n",
       "    <tr>\n",
       "      <th>4</th>\n",
       "      <td>4</td>\n",
       "      <td>0.347138</td>\n",
       "      <td>3.451777</td>\n",
       "    </tr>\n",
       "    <tr>\n",
       "      <th>...</th>\n",
       "      <td>...</td>\n",
       "      <td>...</td>\n",
       "      <td>...</td>\n",
       "    </tr>\n",
       "    <tr>\n",
       "      <th>495</th>\n",
       "      <td>495</td>\n",
       "      <td>9.891518</td>\n",
       "      <td>-3.559564</td>\n",
       "    </tr>\n",
       "    <tr>\n",
       "      <th>496</th>\n",
       "      <td>496</td>\n",
       "      <td>-0.047492</td>\n",
       "      <td>5.474253</td>\n",
       "    </tr>\n",
       "    <tr>\n",
       "      <th>497</th>\n",
       "      <td>497</td>\n",
       "      <td>-2.697986</td>\n",
       "      <td>2.521947</td>\n",
       "    </tr>\n",
       "    <tr>\n",
       "      <th>498</th>\n",
       "      <td>498</td>\n",
       "      <td>-1.859490</td>\n",
       "      <td>2.635500</td>\n",
       "    </tr>\n",
       "    <tr>\n",
       "      <th>499</th>\n",
       "      <td>499</td>\n",
       "      <td>2.406157</td>\n",
       "      <td>4.870475</td>\n",
       "    </tr>\n",
       "  </tbody>\n",
       "</table>\n",
       "<p>500 rows × 3 columns</p>\n",
       "</div>"
      ],
      "text/plain": [
       "     Unnamed: 0         X         Y\n",
       "0             0  2.441256 -0.044710\n",
       "1             1  0.313640  4.335086\n",
       "2             2  1.895938  5.185403\n",
       "3             3 -1.521727  3.234085\n",
       "4             4  0.347138  3.451777\n",
       "..          ...       ...       ...\n",
       "495         495  9.891518 -3.559564\n",
       "496         496 -0.047492  5.474253\n",
       "497         497 -2.697986  2.521947\n",
       "498         498 -1.859490  2.635500\n",
       "499         499  2.406157  4.870475\n",
       "\n",
       "[500 rows x 3 columns]"
      ]
     },
     "execution_count": 3,
     "metadata": {},
     "output_type": "execute_result"
    }
   ],
   "source": [
    "d"
   ]
  },
  {
   "cell_type": "code",
   "execution_count": 7,
   "id": "5023e4de",
   "metadata": {},
   "outputs": [],
   "source": [
    "X = d.iloc[:,1]\n",
    "Y = d.iloc[:,2]"
   ]
  },
  {
   "cell_type": "code",
   "execution_count": 8,
   "id": "1f4e207a",
   "metadata": {},
   "outputs": [
    {
     "data": {
      "text/plain": [
       "0     -0.044710\n",
       "1      4.335086\n",
       "2      5.185403\n",
       "3      3.234085\n",
       "4      3.451777\n",
       "         ...   \n",
       "495   -3.559564\n",
       "496    5.474253\n",
       "497    2.521947\n",
       "498    2.635500\n",
       "499    4.870475\n",
       "Name: Y, Length: 500, dtype: float64"
      ]
     },
     "execution_count": 8,
     "metadata": {},
     "output_type": "execute_result"
    }
   ],
   "source": [
    "Y"
   ]
  },
  {
   "cell_type": "code",
   "execution_count": 13,
   "id": "ee971662",
   "metadata": {},
   "outputs": [
    {
     "data": {
      "image/png": "[encoded data removed]",
      "text/plain": [
       "<Figure size 1080x648 with 1 Axes>"
      ]
     },
     "metadata": {
      "needs_background": "light"
     },
     "output_type": "display_data"
    }
   ],
   "source": [
    "plt.figure(figsize=(15,9))\n",
    "plt.scatter(X, Y, c =\"blue\")\n",
    "plt.show()"
   ]
  },
  {
   "cell_type": "markdown",
   "id": "5ea50f1f",
   "metadata": {},
   "source": [
    "Well, it seems like best distance we could work with is Euclidean(L2 norm)"
   ]
  },
  {
   "cell_type": "markdown",
   "id": "0744a79e",
   "metadata": {},
   "source": [
    "we need to define each point as an object separatly, then doing the job of measures "
   ]
  },
  {
   "cell_type": "code",
   "execution_count": 25,
   "id": "b17c1010",
   "metadata": {},
   "outputs": [],
   "source": [
    "a = np.array([[3, 4],[4, 1]])"
   ]
  },
  {
   "cell_type": "code",
   "execution_count": 26,
   "id": "251c47a5",
   "metadata": {},
   "outputs": [
    {
     "data": {
      "text/plain": [
       "array([[3, 4],\n",
       "       [4, 1]])"
      ]
     },
     "execution_count": 26,
     "metadata": {},
     "output_type": "execute_result"
    }
   ],
   "source": [
    "a"
   ]
  },
  {
   "cell_type": "code",
   "execution_count": 32,
   "id": "f4509db5",
   "metadata": {},
   "outputs": [
    {
     "data": {
      "text/plain": [
       "array([[5.        ],\n",
       "       [4.12310563]])"
      ]
     },
     "execution_count": 32,
     "metadata": {},
     "output_type": "execute_result"
    }
   ],
   "source": [
    "LA.norm(a, ord = 2, axis = 1, keepdims=True)"
   ]
  },
  {
   "cell_type": "code",
   "execution_count": 15,
   "id": "0973b515",
   "metadata": {},
   "outputs": [],
   "source": [
    "#the Algorithm\n",
    "    #Defining parameters\n",
    "Nclus = 5\n",
    "Nvar = 2\n",
    "a11 = -4; a12 = 12; a21 = -4; a22 = 10;"
   ]
  },
  {
   "cell_type": "code",
   "execution_count": null,
   "id": "f52eb104",
   "metadata": {},
   "outputs": [],
   "source": []
  }
 ],
 "metadata": {
  "kernelspec": {
   "display_name": "Python 3 (ipykernel)",
   "language": "python",
   "name": "python3"
  },
  "language_info": {
   "codemirror_mode": {
    "name": "ipython",
    "version": 3
   },
   "file_extension": ".py",
   "mimetype": "text/x-python",
   "name": "python",
   "nbconvert_exporter": "python",
   "pygments_lexer": "ipython3",
   "version": "3.8.12"
  }
 },
 "nbformat": 4,
 "nbformat_minor": 5
}
